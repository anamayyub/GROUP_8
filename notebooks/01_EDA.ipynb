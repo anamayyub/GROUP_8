{
 "cells": [
  {
   "cell_type": "code",
   "execution_count": 1,
   "id": "808218b3-7195-4af5-8137-32a04f2af307",
   "metadata": {},
   "outputs": [
    {
     "name": "stdout",
     "output_type": "stream",
     "text": [
      "Python executable: C:\\ProgramData\\anaconda3\\envs\\derm7pt\\python.exe\n",
      "Pandas version: 2.3.2\n",
      "Torch version: 2.8.0+cpu\n"
     ]
    }
   ],
   "source": [
    "import sys, pandas as pd\n",
    "import torch\n",
    "\n",
    "print(\"Python executable:\", sys.executable)\n",
    "print(\"Pandas version:\", pd.__version__)\n",
    "print(\"Torch version:\", torch.__version__)\n"
   ]
  },
  {
   "cell_type": "code",
   "execution_count": null,
   "id": "f42052a6-eb65-494e-a060-2a5c5058a73f",
   "metadata": {},
   "outputs": [],
   "source": []
  }
 ],
 "metadata": {
  "kernelspec": {
   "display_name": "Python 3 (ipykernel)",
   "language": "python",
   "name": "python3"
  },
  "language_info": {
   "codemirror_mode": {
    "name": "ipython",
    "version": 3
   },
   "file_extension": ".py",
   "mimetype": "text/x-python",
   "name": "python",
   "nbconvert_exporter": "python",
   "pygments_lexer": "ipython3",
   "version": "3.9.23"
  }
 },
 "nbformat": 4,
 "nbformat_minor": 5
}
